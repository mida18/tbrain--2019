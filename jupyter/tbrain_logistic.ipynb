{
 "cells": [
  {
   "cell_type": "code",
   "execution_count": 111,
   "metadata": {},
   "outputs": [
    {
     "name": "stderr",
     "output_type": "stream",
     "text": [
      "C:\\Users\\doggy\\Anaconda3\\lib\\site-packages\\IPython\\core\\interactiveshell.py:3058: DtypeWarning: Columns (17,21,22) have mixed types. Specify dtype option on import or set low_memory=False.\n",
      "  interactivity=interactivity, compiler=compiler, result=result)\n"
     ]
    }
   ],
   "source": [
    "import pandas as pd\n",
    "import re\n",
    "import numpy as np\n",
    "from sklearn.preprocessing import Imputer\n",
    "data=pd.read_csv('train.csv',encoding='big5')"
   ]
  },
  {
   "cell_type": "code",
   "execution_count": 112,
   "metadata": {},
   "outputs": [
    {
     "data": {
      "text/html": [
       "<div>\n",
       "<style scoped>\n",
       "    .dataframe tbody tr th:only-of-type {\n",
       "        vertical-align: middle;\n",
       "    }\n",
       "\n",
       "    .dataframe tbody tr th {\n",
       "        vertical-align: top;\n",
       "    }\n",
       "\n",
       "    .dataframe thead th {\n",
       "        text-align: right;\n",
       "    }\n",
       "</style>\n",
       "<table border=\"1\" class=\"dataframe\">\n",
       "  <thead>\n",
       "    <tr style=\"text-align: right;\">\n",
       "      <th></th>\n",
       "      <th>CUS_ID</th>\n",
       "      <th>GENDER</th>\n",
       "      <th>AGE</th>\n",
       "      <th>CHARGE_CITY_CD</th>\n",
       "      <th>CONTACT_CITY_CD</th>\n",
       "      <th>EDUCATION_CD</th>\n",
       "      <th>MARRIAGE_CD</th>\n",
       "      <th>LAST_A_CCONTACT_DT</th>\n",
       "      <th>L1YR_A_ISSUE_CNT</th>\n",
       "      <th>LAST_A_ISSUE_DT</th>\n",
       "      <th>...</th>\n",
       "      <th>L1YR_GROSS_PRE_AMT</th>\n",
       "      <th>CUST_9_SEGMENTS_CD</th>\n",
       "      <th>FINANCETOOLS_A</th>\n",
       "      <th>FINANCETOOLS_B</th>\n",
       "      <th>FINANCETOOLS_C</th>\n",
       "      <th>FINANCETOOLS_D</th>\n",
       "      <th>FINANCETOOLS_E</th>\n",
       "      <th>FINANCETOOLS_F</th>\n",
       "      <th>FINANCETOOLS_G</th>\n",
       "      <th>Y1</th>\n",
       "    </tr>\n",
       "  </thead>\n",
       "  <tbody>\n",
       "    <tr>\n",
       "      <td>0</td>\n",
       "      <td>3418</td>\n",
       "      <td>M</td>\n",
       "      <td>低</td>\n",
       "      <td>A1</td>\n",
       "      <td>A1</td>\n",
       "      <td>NaN</td>\n",
       "      <td>NaN</td>\n",
       "      <td>Y</td>\n",
       "      <td>0</td>\n",
       "      <td>N</td>\n",
       "      <td>...</td>\n",
       "      <td>0.000174</td>\n",
       "      <td>C</td>\n",
       "      <td>NaN</td>\n",
       "      <td>NaN</td>\n",
       "      <td>NaN</td>\n",
       "      <td>NaN</td>\n",
       "      <td>NaN</td>\n",
       "      <td>NaN</td>\n",
       "      <td>NaN</td>\n",
       "      <td>N</td>\n",
       "    </tr>\n",
       "    <tr>\n",
       "      <td>1</td>\n",
       "      <td>4302</td>\n",
       "      <td>M</td>\n",
       "      <td>低</td>\n",
       "      <td>A1</td>\n",
       "      <td>A1</td>\n",
       "      <td>NaN</td>\n",
       "      <td>NaN</td>\n",
       "      <td>Y</td>\n",
       "      <td>0</td>\n",
       "      <td>N</td>\n",
       "      <td>...</td>\n",
       "      <td>0.008724</td>\n",
       "      <td>A</td>\n",
       "      <td>NaN</td>\n",
       "      <td>NaN</td>\n",
       "      <td>NaN</td>\n",
       "      <td>NaN</td>\n",
       "      <td>NaN</td>\n",
       "      <td>NaN</td>\n",
       "      <td>NaN</td>\n",
       "      <td>N</td>\n",
       "    </tr>\n",
       "    <tr>\n",
       "      <td>2</td>\n",
       "      <td>5545</td>\n",
       "      <td>M</td>\n",
       "      <td>低</td>\n",
       "      <td>A1</td>\n",
       "      <td>A1</td>\n",
       "      <td>1.0</td>\n",
       "      <td>0.0</td>\n",
       "      <td>Y</td>\n",
       "      <td>1</td>\n",
       "      <td>Y</td>\n",
       "      <td>...</td>\n",
       "      <td>0.005359</td>\n",
       "      <td>A</td>\n",
       "      <td>Y</td>\n",
       "      <td>N</td>\n",
       "      <td>N</td>\n",
       "      <td>N</td>\n",
       "      <td>N</td>\n",
       "      <td>N</td>\n",
       "      <td>N</td>\n",
       "      <td>N</td>\n",
       "    </tr>\n",
       "    <tr>\n",
       "      <td>3</td>\n",
       "      <td>7207</td>\n",
       "      <td>M</td>\n",
       "      <td>低</td>\n",
       "      <td>A1</td>\n",
       "      <td>A1</td>\n",
       "      <td>NaN</td>\n",
       "      <td>0.0</td>\n",
       "      <td>Y</td>\n",
       "      <td>0</td>\n",
       "      <td>N</td>\n",
       "      <td>...</td>\n",
       "      <td>0.000000</td>\n",
       "      <td>C</td>\n",
       "      <td>NaN</td>\n",
       "      <td>NaN</td>\n",
       "      <td>NaN</td>\n",
       "      <td>NaN</td>\n",
       "      <td>NaN</td>\n",
       "      <td>NaN</td>\n",
       "      <td>NaN</td>\n",
       "      <td>N</td>\n",
       "    </tr>\n",
       "    <tr>\n",
       "      <td>4</td>\n",
       "      <td>7213</td>\n",
       "      <td>M</td>\n",
       "      <td>低</td>\n",
       "      <td>A1</td>\n",
       "      <td>A1</td>\n",
       "      <td>1.0</td>\n",
       "      <td>0.0</td>\n",
       "      <td>N</td>\n",
       "      <td>0</td>\n",
       "      <td>N</td>\n",
       "      <td>...</td>\n",
       "      <td>0.000603</td>\n",
       "      <td>C</td>\n",
       "      <td>NaN</td>\n",
       "      <td>NaN</td>\n",
       "      <td>NaN</td>\n",
       "      <td>NaN</td>\n",
       "      <td>NaN</td>\n",
       "      <td>NaN</td>\n",
       "      <td>NaN</td>\n",
       "      <td>N</td>\n",
       "    </tr>\n",
       "  </tbody>\n",
       "</table>\n",
       "<p>5 rows × 132 columns</p>\n",
       "</div>"
      ],
      "text/plain": [
       "   CUS_ID GENDER AGE CHARGE_CITY_CD CONTACT_CITY_CD  EDUCATION_CD  \\\n",
       "0    3418      M   低             A1              A1           NaN   \n",
       "1    4302      M   低             A1              A1           NaN   \n",
       "2    5545      M   低             A1              A1           1.0   \n",
       "3    7207      M   低             A1              A1           NaN   \n",
       "4    7213      M   低             A1              A1           1.0   \n",
       "\n",
       "   MARRIAGE_CD LAST_A_CCONTACT_DT  L1YR_A_ISSUE_CNT LAST_A_ISSUE_DT  ...  \\\n",
       "0          NaN                  Y                 0               N  ...   \n",
       "1          NaN                  Y                 0               N  ...   \n",
       "2          0.0                  Y                 1               Y  ...   \n",
       "3          0.0                  Y                 0               N  ...   \n",
       "4          0.0                  N                 0               N  ...   \n",
       "\n",
       "   L1YR_GROSS_PRE_AMT CUST_9_SEGMENTS_CD  FINANCETOOLS_A  FINANCETOOLS_B  \\\n",
       "0            0.000174                  C             NaN             NaN   \n",
       "1            0.008724                  A             NaN             NaN   \n",
       "2            0.005359                  A               Y               N   \n",
       "3            0.000000                  C             NaN             NaN   \n",
       "4            0.000603                  C             NaN             NaN   \n",
       "\n",
       "   FINANCETOOLS_C  FINANCETOOLS_D  FINANCETOOLS_E FINANCETOOLS_F  \\\n",
       "0             NaN             NaN             NaN            NaN   \n",
       "1             NaN             NaN             NaN            NaN   \n",
       "2               N               N               N              N   \n",
       "3             NaN             NaN             NaN            NaN   \n",
       "4             NaN             NaN             NaN            NaN   \n",
       "\n",
       "  FINANCETOOLS_G Y1  \n",
       "0            NaN  N  \n",
       "1            NaN  N  \n",
       "2              N  N  \n",
       "3            NaN  N  \n",
       "4            NaN  N  \n",
       "\n",
       "[5 rows x 132 columns]"
      ]
     },
     "execution_count": 112,
     "metadata": {},
     "output_type": "execute_result"
    }
   ],
   "source": [
    "data.head()"
   ]
  },
  {
   "cell_type": "markdown",
   "metadata": {},
   "source": [
    "## NULL值"
   ]
  },
  {
   "cell_type": "code",
   "execution_count": 113,
   "metadata": {},
   "outputs": [
    {
     "data": {
      "text/plain": [
       "CUS_ID                 0\n",
       "GENDER               683\n",
       "AGE                    0\n",
       "CHARGE_CITY_CD         0\n",
       "CONTACT_CITY_CD        0\n",
       "                   ...  \n",
       "FINANCETOOLS_D     62641\n",
       "FINANCETOOLS_E     62641\n",
       "FINANCETOOLS_F     62641\n",
       "FINANCETOOLS_G     62641\n",
       "Y1                     0\n",
       "Length: 132, dtype: int64"
      ]
     },
     "execution_count": 113,
     "metadata": {},
     "output_type": "execute_result"
    }
   ],
   "source": [
    "data.isnull().sum()"
   ]
  },
  {
   "cell_type": "code",
   "execution_count": 114,
   "metadata": {},
   "outputs": [],
   "source": [
    "data = data.fillna(\"NaN\")\n",
    "#data.isnull().sum()"
   ]
  },
  {
   "cell_type": "code",
   "execution_count": 115,
   "metadata": {},
   "outputs": [
    {
     "data": {
      "text/plain": [
       "count     100000\n",
       "unique         3\n",
       "top            F\n",
       "freq       52944\n",
       "Name: GENDER, dtype: object"
      ]
     },
     "execution_count": 115,
     "metadata": {},
     "output_type": "execute_result"
    }
   ],
   "source": [
    "data[\"GENDER\"].describe()"
   ]
  },
  {
   "cell_type": "markdown",
   "metadata": {},
   "source": [
    "## Categorical columns"
   ]
  },
  {
   "cell_type": "code",
   "execution_count": 5,
   "metadata": {},
   "outputs": [],
   "source": [
    "def OHE(df):\n",
    "    col = ['GENDER','CHARGE_CITY_CD','CONTACT_CITY_CD','MARRIAGE_CD','CUST_9_SEGMENTS_CD']\n",
    "    print('Categorical columns in dataset',col)\n",
    "    \n",
    "    c2,c3 = [],{}\n",
    "    for c in col:\n",
    "        if df[c].nunique()>2 :\n",
    "            c2.append(c)\n",
    "            c3[c] = 'ohe_'+c\n",
    "            \n",
    "    df = pd.get_dummies(df,columns=c2,drop_first=True,prefix=c3)\n",
    "    print(df.shape)\n",
    "    return df"
   ]
  },
  {
   "cell_type": "code",
   "execution_count": 6,
   "metadata": {},
   "outputs": [
    {
     "name": "stdout",
     "output_type": "stream",
     "text": [
      "Categorical columns in dataset ['GENDER', 'CHARGE_CITY_CD', 'CONTACT_CITY_CD', 'MARRIAGE_CD', 'CUST_9_SEGMENTS_CD']\n",
      "(100000, 153)\n"
     ]
    }
   ],
   "source": [
    "data_ohe = OHE(data)"
   ]
  },
  {
   "cell_type": "markdown",
   "metadata": {},
   "source": [
    "## Y/N columns"
   ]
  },
  {
   "cell_type": "code",
   "execution_count": 7,
   "metadata": {},
   "outputs": [],
   "source": [
    "def Y_N(df):\n",
    "    col=[]\n",
    "    transform={'Y':1,'N':0}\n",
    "    for i in df.columns:\n",
    "        if re.match(r'IF|FINANCETOOLS|X_|IM_IS|LAST|^[A-Z].*IND$', i):\n",
    "            col.append(i)\n",
    "            \n",
    "    for j in col:\n",
    "        df[j]=df[j].map(transform)\n",
    "        \n",
    "    try:\n",
    "        df['Y1']=df['Y1'].map(transform)\n",
    "        \n",
    "    except:\n",
    "        pass\n",
    "\n",
    "    return df"
   ]
  },
  {
   "cell_type": "code",
   "execution_count": 8,
   "metadata": {},
   "outputs": [],
   "source": [
    "data_ohe_yn = Y_N(data_ohe)"
   ]
  },
  {
   "cell_type": "markdown",
   "metadata": {},
   "source": [
    "## ordinal feature"
   ]
  },
  {
   "cell_type": "code",
   "execution_count": 9,
   "metadata": {},
   "outputs": [
    {
     "data": {
      "text/plain": [
       "array(['低', '中高', '中', '高'], dtype=object)"
      ]
     },
     "execution_count": 9,
     "metadata": {},
     "output_type": "execute_result"
    }
   ],
   "source": [
    "data_ohe_yn.AGE.unique()"
   ]
  },
  {
   "cell_type": "code",
   "execution_count": 10,
   "metadata": {},
   "outputs": [],
   "source": [
    "def order_features(df):\n",
    "    order_mapping = {'低':1,'中':2,'中高':3,'高':4}\n",
    "    col=['AGE','APC_1ST_AGE','INSD_1ST_AGE','RFM_R','REBUY_TIMES_CNT','LIFE_CNT']\n",
    "    for i in col:\n",
    "        df[i]= df[i].map(order_mapping)\n",
    "    return df"
   ]
  },
  {
   "cell_type": "code",
   "execution_count": 11,
   "metadata": {},
   "outputs": [],
   "source": [
    "data_ohe_yn = order_features(data_ohe_yn)"
   ]
  },
  {
   "cell_type": "markdown",
   "metadata": {},
   "source": [
    "## NaN值填補"
   ]
  },
  {
   "cell_type": "code",
   "execution_count": 12,
   "metadata": {},
   "outputs": [
    {
     "data": {
      "text/plain": [
       "array([[3418, 1, 'NaN', ..., 0, 0, 0],\n",
       "       [4302, 1, 'NaN', ..., 0, 0, 0],\n",
       "       [5545, 1, 1.0, ..., 0, 0, 0],\n",
       "       ...,\n",
       "       [2535679, 3, 2.0, ..., 0, 0, 1],\n",
       "       [2544819, 4, 3.0, ..., 0, 1, 0],\n",
       "       [1994377, 4, 3.0, ..., 0, 1, 0]], dtype=object)"
      ]
     },
     "execution_count": 12,
     "metadata": {},
     "output_type": "execute_result"
    }
   ],
   "source": [
    "data_ohe_yn.values"
   ]
  },
  {
   "cell_type": "code",
   "execution_count": 13,
   "metadata": {},
   "outputs": [
    {
     "name": "stderr",
     "output_type": "stream",
     "text": [
      "C:\\Users\\doggy\\Anaconda3\\lib\\site-packages\\sklearn\\utils\\deprecation.py:66: DeprecationWarning: Class Imputer is deprecated; Imputer was deprecated in version 0.20 and will be removed in 0.22. Import impute.SimpleImputer from sklearn instead.\n",
      "  warnings.warn(msg, category=DeprecationWarning)\n"
     ]
    },
    {
     "data": {
      "text/plain": [
       "array([[3.41800000e+03, 1.00000000e+00, 2.16907525e+00, ...,\n",
       "        0.00000000e+00, 0.00000000e+00, 0.00000000e+00],\n",
       "       [4.30200000e+03, 1.00000000e+00, 2.16907525e+00, ...,\n",
       "        0.00000000e+00, 0.00000000e+00, 0.00000000e+00],\n",
       "       [5.54500000e+03, 1.00000000e+00, 1.00000000e+00, ...,\n",
       "        0.00000000e+00, 0.00000000e+00, 0.00000000e+00],\n",
       "       ...,\n",
       "       [2.53567900e+06, 3.00000000e+00, 2.00000000e+00, ...,\n",
       "        0.00000000e+00, 0.00000000e+00, 1.00000000e+00],\n",
       "       [2.54481900e+06, 4.00000000e+00, 3.00000000e+00, ...,\n",
       "        0.00000000e+00, 1.00000000e+00, 0.00000000e+00],\n",
       "       [1.99437700e+06, 4.00000000e+00, 3.00000000e+00, ...,\n",
       "        0.00000000e+00, 1.00000000e+00, 0.00000000e+00]])"
      ]
     },
     "execution_count": 13,
     "metadata": {},
     "output_type": "execute_result"
    }
   ],
   "source": [
    "imr = Imputer(missing_values='NaN', strategy='mean', axis=0)\n",
    "imr = imr.fit(data_ohe_yn.values)\n",
    "imputed_data = imr.transform(data_ohe_yn.values)\n",
    "imputed_data"
   ]
  },
  {
   "cell_type": "code",
   "execution_count": 14,
   "metadata": {},
   "outputs": [],
   "source": [
    "#turn numpy.ndarray back to dataframe\n",
    "col={}\n",
    "for j,c in enumerate(data_ohe_yn.columns):\n",
    "    col[c] = imputed_data[:, j]\n",
    "data_final=pd.DataFrame(col)"
   ]
  },
  {
   "cell_type": "markdown",
   "metadata": {},
   "source": [
    "data_final.to_csv('train_1.csv',index=False,encoding='big5')"
   ]
  },
  {
   "cell_type": "markdown",
   "metadata": {},
   "source": [
    "## Logistic Regression"
   ]
  },
  {
   "cell_type": "code",
   "execution_count": 100,
   "metadata": {},
   "outputs": [],
   "source": [
    "from sklearn.model_selection import train_test_split\n",
    "from sklearn.linear_model import LogisticRegression\n",
    "from sklearn.model_selection import StratifiedKFold,RandomizedSearchCV\n",
    "from sklearn.metrics import roc_auc_score,confusion_matrix,roc_curve\n",
    "#data = pd.read_csv('train_1.csv')\n",
    "X,y = data_final.drop('Y1',axis=1), data_final['Y1']\n",
    "X_train, X_test, y_train, y_test=train_test_split(X, y, test_size=0.3, random_state=1, stratify=y)"
   ]
  },
  {
   "cell_type": "code",
   "execution_count": 105,
   "metadata": {},
   "outputs": [
    {
     "name": "stderr",
     "output_type": "stream",
     "text": [
      "C:\\Users\\doggy\\Anaconda3\\lib\\site-packages\\sklearn\\linear_model\\logistic.py:432: FutureWarning: Default solver will be changed to 'lbfgs' in 0.22. Specify a solver to silence this warning.\n",
      "  FutureWarning)\n"
     ]
    }
   ],
   "source": [
    "lr = LogisticRegression(C=20, class_weight='balanced', random_state=1, penalty='l1')\n",
    "lr.fit(X_train,y_train)\n",
    "y_pred = pd.Series(lr.predict_proba(X_test)[:,1]).apply(lambda x: 1 if x > 0.5 else 0)"
   ]
  },
  {
   "cell_type": "code",
   "execution_count": 106,
   "metadata": {},
   "outputs": [
    {
     "data": {
      "text/plain": [
       "0.7318877551020407"
      ]
     },
     "execution_count": 106,
     "metadata": {},
     "output_type": "execute_result"
    }
   ],
   "source": [
    "#score = accuracy_score(y_test, lr.predict(X_test))\n",
    "roc=roc_auc_score(y_test, y_pred)\n",
    "#cr = classification_report(y_test, lr.predict(X_test))\n",
    "roc"
   ]
  },
  {
   "cell_type": "code",
   "execution_count": 21,
   "metadata": {},
   "outputs": [
    {
     "data": {
      "image/png": "[encoded data removed]",
      "text/plain": [
       "<Figure size 1008x432 with 1 Axes>"
      ]
     },
     "metadata": {
      "needs_background": "light"
     },
     "output_type": "display_data"
    }
   ],
   "source": [
    "#plot\n",
    "import matplotlib.pyplot as plt\n",
    "y_proba = lr.predict_proba(X)[:,1]\n",
    "fpr,tpr,th = roc_curve(y,y_proba)\n",
    "\n",
    "plt.figure(figsize=(14,6))\n",
    "plt.plot(fpr,tpr,color='r')\n",
    "plt.plot([0,1],[0,1],color='b')\n",
    "plt.title('Reciever operating Charactaristics')\n",
    "plt.xlabel('False positive rate')\n",
    "plt.ylabel('True positive rate')\n",
    "plt.show()"
   ]
  },
  {
   "cell_type": "code",
   "execution_count": 108,
   "metadata": {},
   "outputs": [
    {
     "name": "stderr",
     "output_type": "stream",
     "text": [
      "C:\\Users\\doggy\\Anaconda3\\lib\\site-packages\\sklearn\\linear_model\\logistic.py:432: FutureWarning: Default solver will be changed to 'lbfgs' in 0.22. Specify a solver to silence this warning.\n",
      "  FutureWarning)\n",
      "C:\\Users\\doggy\\Anaconda3\\lib\\site-packages\\sklearn\\linear_model\\logistic.py:432: FutureWarning: Default solver will be changed to 'lbfgs' in 0.22. Specify a solver to silence this warning.\n",
      "  FutureWarning)\n",
      "C:\\Users\\doggy\\Anaconda3\\lib\\site-packages\\sklearn\\linear_model\\logistic.py:432: FutureWarning: Default solver will be changed to 'lbfgs' in 0.22. Specify a solver to silence this warning.\n",
      "  FutureWarning)\n"
     ]
    },
    {
     "data": {
      "text/plain": [
       "0.729047619047619"
      ]
     },
     "execution_count": 108,
     "metadata": {},
     "output_type": "execute_result"
    }
   ],
   "source": [
    "# combine models\n",
    "lr1 = LogisticRegression(C=50, class_weight='balanced', random_state=1, penalty='l2')\n",
    "lr1.fit(X_train,y_train)\n",
    "lr2 = LogisticRegression(C=20, class_weight='balanced', random_state=1, penalty='l1')\n",
    "lr2.fit(X_train,y_train)\n",
    "#r3 = LogisticRegression(C=50, class_weight='balanced', random_state=1, penalty='l1')\n",
    "lr3.fit(X_train,y_train)\n",
    "\n",
    "y_prob = (lr1.predict_proba(X_test)[:,1] + lr2.predict_proba(X_test)[:,1] + lr3.predict_proba(X_test)[:,1]) / 3\n",
    "y_pred = pd.Series(y_prob).apply(lambda x: 1 if x > 0.5 else 0)\n",
    "roc_auc_score(y_test, y_pred)"
   ]
  },
  {
   "cell_type": "markdown",
   "metadata": {},
   "source": [
    "## Test Data"
   ]
  },
  {
   "cell_type": "code",
   "execution_count": 96,
   "metadata": {},
   "outputs": [
    {
     "name": "stderr",
     "output_type": "stream",
     "text": [
      "C:\\Users\\doggy\\Anaconda3\\lib\\site-packages\\IPython\\core\\interactiveshell.py:3058: DtypeWarning: Columns (17,21,22) have mixed types. Specify dtype option on import or set low_memory=False.\n",
      "  interactivity=interactivity, compiler=compiler, result=result)\n"
     ]
    },
    {
     "name": "stdout",
     "output_type": "stream",
     "text": [
      "Categorical columns in dataset ['GENDER', 'CHARGE_CITY_CD', 'CONTACT_CITY_CD', 'MARRIAGE_CD', 'CUST_9_SEGMENTS_CD']\n",
      "(150000, 152)\n"
     ]
    }
   ],
   "source": [
    "data_test= pd.read_csv('test.csv',encoding='big5')\n",
    "data_test = data_test.fillna(\"NaN\")\n",
    "data_test = OHE(data_test)\n",
    "data_test = Y_N(data_test)\n",
    "data_test = order_features(data_test)\n",
    "\n",
    "imr = imr.fit(data_test.values)\n",
    "imputed_data = imr.transform(data_test.values)\n",
    "\n",
    "col={}\n",
    "for j,c in enumerate(data_test.columns):\n",
    "    col[c] = imputed_data[:, j]\n",
    "    \n",
    "data_test_final=pd.DataFrame(col)"
   ]
  },
  {
   "cell_type": "code",
   "execution_count": null,
   "metadata": {},
   "outputs": [],
   "source": [
    "# data_test_final.to_csv('test_1.csv',index=False)"
   ]
  },
  {
   "cell_type": "code",
   "execution_count": 99,
   "metadata": {},
   "outputs": [
    {
     "name": "stderr",
     "output_type": "stream",
     "text": [
      "C:\\Users\\doggy\\Anaconda3\\lib\\site-packages\\sklearn\\linear_model\\logistic.py:432: FutureWarning: Default solver will be changed to 'lbfgs' in 0.22. Specify a solver to silence this warning.\n",
      "  FutureWarning)\n"
     ]
    }
   ],
   "source": [
    "lr = LogisticRegression(C=50, class_weight='balanced', random_state=1, penalty='l2')\n",
    "X,y = data_final.drop('Y1',axis=1), data_final['Y1']\n",
    "lr.fit(X_train,y_train)\n",
    "y_pred = lr.predict_proba(data_test_final)[:,1]\n",
    "y_pred_final=pd.Series(y_pred).apply(lambda x: 1 if x > 0.5 else 0)\n",
    "\n",
    "#Submit Prediction\n",
    "submit_test=pd.read_csv('submit_test.csv',encoding='big5')\n",
    "submit = pd.DataFrame({'CUS_ID':submit_test['CUS_ID'],'Ypred':y_pred_final})\n",
    "submit.to_csv('test5_SimpleLogistic.csv',index=False)"
   ]
  },
  {
   "cell_type": "code",
   "execution_count": null,
   "metadata": {},
   "outputs": [],
   "source": [
    "# test 1： C=50 , penalty =\"l2\" using X,y              #42562  AUC:0.7192346938775509    final：0.7593604061\n",
    "# test 2： C=20 , penalty =\"l1\" using X,y              #42691  AUC:0.7318877551020407    final：0.7583181049\n",
    "# test 3： C=50 , penalty =\"l1\" using X,y              #42694  AUC:0.733265306122449\n",
    "# test 4： C=50 , penalty =\"l1\" using X_train,y_train  #42568  \n",
    "# test 5： C=50 , penalty =\"l2\" using X_train,y_train  #42068"
   ]
  },
  {
   "cell_type": "markdown",
   "metadata": {},
   "source": [
    "## Feature Extraction - RandomForest "
   ]
  },
  {
   "cell_type": "code",
   "execution_count": 68,
   "metadata": {},
   "outputs": [
    {
     "name": "stdout",
     "output_type": "stream",
     "text": [
      " 1) LAST_A_CCONTACT_DT             0.064272\n",
      " 2) CHANNEL_B_POL_CNT              0.062596\n",
      " 3) IF_ISSUE_I_IND                 0.051863\n",
      " 4) IF_ADD_R_IND                   0.049705\n",
      " 5) L1YR_A_ISSUE_CNT               0.043674\n",
      " 6) IM_IS_B_IND                    0.037438\n",
      " 7) IF_ISSUE_P_IND                 0.027021\n",
      " 8) RFM_R                          0.025419\n",
      " 9) IF_ISSUE_L_IND                 0.024940\n",
      "10) IF_ISSUE_B_IND                 0.024474\n",
      "11) APC_CNT                        0.024412\n",
      "12) REBUY_TIMES_CNT                0.023788\n",
      "13) IF_ISSUE_D_IND                 0.021748\n",
      "14) L1YR_PAYMENT_REMINDER_IND      0.020839\n",
      "15) AGE                            0.019752\n",
      "16) IF_ADD_IND                     0.019387\n",
      "17) IF_ADD_G_IND                   0.017857\n",
      "18) LAST_B_ISSUE_DT                0.016079\n",
      "19) EDUCATION_CD                   0.015940\n",
      "20) IF_ISSUE_G_IND                 0.015358\n",
      "21) IF_ISSUE_H_IND                 0.015352\n",
      "22) IM_CNT                         0.014929\n",
      "23) IF_ISSUE_A_IND                 0.014671\n",
      "24) LIFE_CNT                       0.013946\n",
      "25) ANNUAL_PREMIUM_AMT             0.013180\n",
      "26) IF_ADD_F_IND                   0.013008\n",
      "27) L1YR_C_CNT                     0.012945\n",
      "28) L1YR_B_ISSUE_CNT               0.012577\n",
      "29) IF_ISSUE_J_IND                 0.011624\n",
      "30) LAST_C_DT                      0.011446\n",
      "31) ANNUAL_INCOME_AMT              0.011385\n",
      "32) APC_1ST_YEARDIF                0.011197\n",
      "33) CHANNEL_A_POL_CNT              0.011066\n",
      "34) OCCUPATION_CLASS_CD            0.010862\n",
      "35) IF_ISSUE_Q_IND                 0.010242\n",
      "36) B_IND                          0.010136\n"
     ]
    }
   ],
   "source": [
    "from sklearn.ensemble import RandomForestClassifier\n",
    "from sklearn.feature_selection import SelectFromModel\n",
    "\n",
    "drop_col = ['Y1','CUS_ID']\n",
    "feat_labels = data_final.drop(drop_col,axis=1).columns\n",
    "\n",
    "forest = RandomForestClassifier(n_estimators=500,\n",
    "                                random_state=1)\n",
    "\n",
    "forest.fit(X_train, y_train)\n",
    "importances = forest.feature_importances_\n",
    "indices = np.argsort(importances)[::-1]\n",
    "\n",
    "sfm = SelectFromModel(forest, threshold=0.01, prefit=True)\n",
    "X_selected = sfm.transform(X_train)\n",
    "\n",
    "for f in range(X_selected.shape[1]):\n",
    "    print(\"%2d) %-*s %f\" % (f + 1, 30, \n",
    "                            feat_labels[indices[f]], \n",
    "                            importances[indices[f]]))"
   ]
  },
  {
   "cell_type": "code",
   "execution_count": 69,
   "metadata": {},
   "outputs": [
    {
     "data": {
      "image/png": "[encoded data removed]",
      "text/plain": [
       "<Figure size 1008x432 with 1 Axes>"
      ]
     },
     "metadata": {
      "needs_background": "light"
     },
     "output_type": "display_data"
    }
   ],
   "source": [
    "plt.figure(figsize=(14,6))\n",
    "plt.title('Feature Importance')\n",
    "plt.bar(range(X_selected.shape[1]), importances[indices[range(X_selected.shape[1])]], align='center')\n",
    "\n",
    "plt.xticks(range(X_selected.shape[1]), feat_labels[indices[range(X_selected.shape[1])]], rotation=90)\n",
    "plt.xlim([-1, X_selected.shape[1]])\n",
    "plt.tight_layout()\n",
    "\n",
    "plt.show()"
   ]
  },
  {
   "cell_type": "code",
   "execution_count": 88,
   "metadata": {},
   "outputs": [
    {
     "name": "stderr",
     "output_type": "stream",
     "text": [
      "C:\\Users\\doggy\\Anaconda3\\lib\\site-packages\\sklearn\\linear_model\\logistic.py:432: FutureWarning: Default solver will be changed to 'lbfgs' in 0.22. Specify a solver to silence this warning.\n",
      "  FutureWarning)\n"
     ]
    }
   ],
   "source": [
    "new_col = feat_labels[indices[range(X_selected.shape[1])]]\n",
    "X,y = data_final[new_col], data_final['Y1']\n",
    "X_train, X_test, y_train, y_test=train_test_split(X, y, test_size=0.3, random_state=1, stratify=y)\n",
    "lr = LogisticRegression(C=50, class_weight='balanced', random_state=1, penalty='l1')\n",
    "lr.fit(X_train,y_train)\n",
    "y_pred = pd.Series(lr.predict_proba(X_test)[:,1]).apply(lambda x: 1 if x > 0.5 else 0)\n",
    "roc = roc_auc_score(y_test, y_pred)"
   ]
  },
  {
   "cell_type": "code",
   "execution_count": 89,
   "metadata": {},
   "outputs": [
    {
     "data": {
      "text/plain": [
       "0.6871088435374149"
      ]
     },
     "execution_count": 89,
     "metadata": {},
     "output_type": "execute_result"
    }
   ],
   "source": [
    "roc"
   ]
  },
  {
   "cell_type": "code",
   "execution_count": null,
   "metadata": {},
   "outputs": [],
   "source": []
  }
 ],
 "metadata": {
  "kernelspec": {
   "display_name": "Python 3",
   "language": "python",
   "name": "python3"
  },
  "language_info": {
   "codemirror_mode": {
    "name": "ipython",
    "version": 3
   },
   "file_extension": ".py",
   "mimetype": "text/x-python",
   "name": "python",
   "nbconvert_exporter": "python",
   "pygments_lexer": "ipython3",
   "version": "3.6.5"
  }
 },
 "nbformat": 4,
 "nbformat_minor": 2
}
